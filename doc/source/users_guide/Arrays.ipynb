{
 "cells": [
  {
   "cell_type": "markdown",
   "metadata": {},
   "source": [
    "Whenever `YT` returns physical data, it is typically associated with certain units (e.g.,\n",
    "density in grams per cubic centimeter, temperature in Kelvin, and so on). `YT` exposes the\n",
    "`YTArray`, `YTQuantity`, and units facilities from `yt` so that \"unitful\" objects may be\n",
    "manipulated and operated on. We'll use the following dataset in these examples:"
   ]
  },
  {
   "cell_type": "code",
   "execution_count": null,
   "metadata": {
    "collapsed": true
   },
   "outputs": [],
   "source": [
    "using YT\n",
    "\n",
    "ds = load(\"GasSloshing/sloshing_nomag2_hdf5_plt_cnt_0150\")"
   ]
  },
  {
   "cell_type": "markdown",
   "metadata": {},
   "source": [
    "## Arrays"
   ]
  },
  {
   "cell_type": "markdown",
   "metadata": {},
   "source": [
    "If we grab the `\"density\"` field from a sphere, it will be returned as a `YTArray` in $\\rm{g}/\\rm{cm}^3$:\n"
   ]
  },
  {
   "cell_type": "code",
   "execution_count": null,
   "metadata": {
    "collapsed": false
   },
   "outputs": [],
   "source": [
    "sp = Sphere(ds, \"c\", (100.,\"kpc\"))"
   ]
  },
  {
   "cell_type": "code",
   "execution_count": null,
   "metadata": {
    "collapsed": false
   },
   "outputs": [],
   "source": [
    "sp[\"density\"]"
   ]
  },
  {
   "cell_type": "markdown",
   "metadata": {},
   "source": [
    "A `YTArray` can be manipulated in many of the same ways that normal Julia `Array`s are, and the units are retained. The following are some simple examples of this."
   ]
  },
  {
   "cell_type": "markdown",
   "metadata": {},
   "source": [
    "Finding the maximum density:"
   ]
  },
  {
   "cell_type": "code",
   "execution_count": null,
   "metadata": {
    "collapsed": false
   },
   "outputs": [],
   "source": [
    "maximum(sp[\"density\"])"
   ]
  },
  {
   "cell_type": "markdown",
   "metadata": {},
   "source": [
    "Multiplying the temperature by a constant unitless number:"
   ]
  },
  {
   "cell_type": "code",
   "execution_count": null,
   "metadata": {
    "collapsed": false
   },
   "outputs": [],
   "source": [
    "sp[\"temperature\"]*5"
   ]
  },
  {
   "cell_type": "markdown",
   "metadata": {},
   "source": [
    "Adding two `YTArray`s:"
   ]
  },
  {
   "cell_type": "code",
   "execution_count": null,
   "metadata": {
    "collapsed": false
   },
   "outputs": [],
   "source": [
    "sp[\"velocity_magnitude\"]+sp[\"sound_speed\"]"
   ]
  },
  {
   "cell_type": "markdown",
   "metadata": {},
   "source": [
    "Multiplying element-wise one `YTArray` by another:"
   ]
  },
  {
   "cell_type": "code",
   "execution_count": null,
   "metadata": {
    "collapsed": false
   },
   "outputs": [],
   "source": [
    "sp[\"density\"].*sp[\"temperature\"]"
   ]
  },
  {
   "cell_type": "markdown",
   "metadata": {},
   "source": [
    "However, attempting to perform an operation that doesn't make sense will throw an error. For example, suppose that you tried to instead add `\"density\"` and `\"temperature\"`, which aren't the same type of physical quantity:"
   ]
  },
  {
   "cell_type": "code",
   "execution_count": null,
   "metadata": {
    "collapsed": false
   },
   "outputs": [],
   "source": [
    "sp[\"density\"]+sp[\"temperature\"]"
   ]
  },
  {
   "cell_type": "markdown",
   "metadata": {},
   "source": [
    "It is also possible to create a `YTArray` from a regular Julia `Array`, like so:"
   ]
  },
  {
   "cell_type": "code",
   "execution_count": null,
   "metadata": {
    "collapsed": false
   },
   "outputs": [],
   "source": [
    "a = YTArray(randn(10), \"erg\")"
   ]
  },
  {
   "cell_type": "markdown",
   "metadata": {},
   "source": [
    "If your `YTArray` needs to know about code units associated with a specific dataset,\n",
    "you'll have to create it with a `Dataset` object passed in:"
   ]
  },
  {
   "cell_type": "code",
   "execution_count": null,
   "metadata": {
    "collapsed": false
   },
   "outputs": [],
   "source": [
    "b = YTArray(ds, [1.0,1.0,1.0], \"code_length\")"
   ]
  },
  {
   "cell_type": "markdown",
   "metadata": {},
   "source": [
    "A `YTArray` can be saved to an [HDF5](http://www.hdfgroup.org) file for re-loading later. For this, one can use `write_hdf5()`. One can supply the optional arguments: \n",
    "\n",
    "* ``dataset_name``: The name of the dataset to store the array in (defaults to ``\"array_data\"``)\n",
    "* ``info``: An optional dictionary which can be stored as dataset attributes to provide additional information"
   ]
  },
  {
   "cell_type": "code",
   "execution_count": null,
   "metadata": {
    "collapsed": false
   },
   "outputs": [],
   "source": [
    "c = YTArray(rand(10,10), \"kpc/Myr\")\n",
    "myinfo = Dict(\"field\"=>\"velocity_magnitude\", \"source\"=>\"galaxy cluster\")\n",
    "write_hdf5(c, \"my_file.h5\", dataset_name=\"cluster\", info=myinfo)"
   ]
  },
  {
   "cell_type": "markdown",
   "metadata": {},
   "source": [
    "The data can be read back into a `YTArray` using `from_hdf5()`:"
   ]
  },
  {
   "cell_type": "code",
   "execution_count": null,
   "metadata": {
    "collapsed": false
   },
   "outputs": [],
   "source": [
    "d = from_hdf5(\"my_file.h5\", dataset_name=\"cluster\")\n",
    "c == d # Check to see if they're the same"
   ]
  },
  {
   "cell_type": "markdown",
   "metadata": {},
   "source": [
    "## Special Arrays"
   ]
  },
  {
   "cell_type": "markdown",
   "metadata": {},
   "source": [
    "It may be useful to generate `YTArray`s of ones or zeros similar to an existing `YTArray`. This\n",
    "can be done with `ones` and `zeros`, in the same manner as the standard Julia `Array`:"
   ]
  },
  {
   "cell_type": "code",
   "execution_count": null,
   "metadata": {
    "collapsed": false
   },
   "outputs": [],
   "source": [
    "ones(sp[\"density\"])"
   ]
  },
  {
   "cell_type": "code",
   "execution_count": null,
   "metadata": {
    "collapsed": false
   },
   "outputs": [],
   "source": [
    "zeros(d)"
   ]
  },
  {
   "cell_type": "markdown",
   "metadata": {},
   "source": [
    "To create a `YTArray` by taking a `YTQuantity` (see below) and repeating it, use `fill`:"
   ]
  },
  {
   "cell_type": "code",
   "execution_count": null,
   "metadata": {
    "collapsed": false
   },
   "outputs": [],
   "source": [
    "q = YTQuantity(200., \"nG\")\n",
    "fill(q, 10)"
   ]
  },
  {
   "cell_type": "markdown",
   "metadata": {},
   "source": [
    "This can be done for multi-dimensional arrays as well:"
   ]
  },
  {
   "cell_type": "code",
   "execution_count": null,
   "metadata": {
    "collapsed": false
   },
   "outputs": [],
   "source": [
    "fill(q, (10,10))"
   ]
  },
  {
   "cell_type": "markdown",
   "metadata": {},
   "source": [
    "If you have a 2D `YTArray` and would like to create an identity matrix with the same shape, use `eye`:"
   ]
  },
  {
   "cell_type": "code",
   "execution_count": null,
   "metadata": {
    "collapsed": false
   },
   "outputs": [],
   "source": [
    "Q = YTArray(rand(5,5), \"kC\")\n",
    "eye(Q)"
   ]
  },
  {
   "cell_type": "markdown",
   "metadata": {},
   "source": [
    "## Quantities"
   ]
  },
  {
   "cell_type": "markdown",
   "metadata": {},
   "source": [
    "A `YTQuantity` is just a scalar version of a `YTArray`. They can be created and manipulated in much the same way:"
   ]
  },
  {
   "cell_type": "code",
   "execution_count": null,
   "metadata": {
    "collapsed": false
   },
   "outputs": [],
   "source": [
    "theta = YTQuantity(3.14159, \"radian\")"
   ]
  },
  {
   "cell_type": "code",
   "execution_count": null,
   "metadata": {
    "collapsed": false
   },
   "outputs": [],
   "source": [
    "l = YTQuantity(12, \"cm\")"
   ]
  },
  {
   "cell_type": "code",
   "execution_count": null,
   "metadata": {
    "collapsed": false
   },
   "outputs": [],
   "source": [
    "theta/l"
   ]
  },
  {
   "cell_type": "code",
   "execution_count": null,
   "metadata": {
    "collapsed": false
   },
   "outputs": [],
   "source": [
    "theta\\l"
   ]
  },
  {
   "cell_type": "code",
   "execution_count": null,
   "metadata": {
    "collapsed": false
   },
   "outputs": [],
   "source": [
    "p = YTQuantity(13,\"m\")\n",
    "l+p"
   ]
  },
  {
   "cell_type": "code",
   "execution_count": null,
   "metadata": {
    "collapsed": false
   },
   "outputs": [],
   "source": [
    "f = YTQuantity(ds, 2.5, \"code_length\")"
   ]
  },
  {
   "cell_type": "markdown",
   "metadata": {},
   "source": [
    "## Changing Units"
   ]
  },
  {
   "cell_type": "markdown",
   "metadata": {},
   "source": [
    "Occasionally you will want to change the units of an array or quantity to something more appropriate. Taking density as the example, we can change it to units of solar masses per kiloparsec, using `convert_to_units()`:"
   ]
  },
  {
   "cell_type": "code",
   "execution_count": null,
   "metadata": {
    "collapsed": true
   },
   "outputs": [],
   "source": [
    "convert_to_units(sp[\"density\"], \"Msun/kpc^3\")"
   ]
  },
  {
   "cell_type": "code",
   "execution_count": null,
   "metadata": {
    "collapsed": false
   },
   "outputs": [],
   "source": [
    "sp[\"density\"]"
   ]
  },
  {
   "cell_type": "markdown",
   "metadata": {},
   "source": [
    "There are also special methods for conversions to cgs and MKS unit systems:"
   ]
  },
  {
   "cell_type": "code",
   "execution_count": null,
   "metadata": {
    "collapsed": false
   },
   "outputs": [],
   "source": [
    "convert_to_cgs(sp[\"density\"])\n",
    "sp[\"density\"]"
   ]
  },
  {
   "cell_type": "code",
   "execution_count": null,
   "metadata": {
    "collapsed": false
   },
   "outputs": [],
   "source": [
    "convert_to_mks(sp[\"density\"])\n",
    "sp[\"density\"]"
   ]
  },
  {
   "cell_type": "markdown",
   "metadata": {},
   "source": [
    "The above do in-place conversions of the original array or quantity. To create a new array or quantity from a unit conversion of an existing one, use the `in_units()`, `in_cgs()`, and `in_mks()` methods, which have the same signature, and return the new array or quantity:"
   ]
  },
  {
   "cell_type": "code",
   "execution_count": null,
   "metadata": {
    "collapsed": false
   },
   "outputs": [],
   "source": [
    "in_units(sp[\"density\"], \"Msun/kpc^3\")"
   ]
  },
  {
   "cell_type": "markdown",
   "metadata": {},
   "source": [
    "We can check to see that this array is where we left it:"
   ]
  },
  {
   "cell_type": "code",
   "execution_count": null,
   "metadata": {
    "collapsed": false
   },
   "outputs": [],
   "source": [
    "sp[\"density\"]"
   ]
  },
  {
   "cell_type": "markdown",
   "metadata": {},
   "source": [
    "## Unit Systems"
   ]
  },
  {
   "cell_type": "markdown",
   "metadata": {},
   "source": [
    "yt and `YT` come with a number of built-in unit systems. You have already seen two of them, `\"cgs\"` and `\"mks\"`. There are others. The full set includes:\n",
    "\n",
    "* `\"cgs\"`: Centimeters-grams-seconds unit system, with base of `(cm, g, s, K, radian)`. Uses the Gaussian normalization for electromagnetic units.\n",
    "* `\"mks\"`: Meters-kilograms-seconds unit system, with base of `(m, kg, s, K, radian, A)`.\n",
    "* `\"imperial\"`: Imperial unit system, with base of `(mile, lbm, s, R, radian)`.\n",
    "* `\"galactic\"`: \"Galactic\" unit system, with base of `(kpc, Msun, Myr, K, radian)`.\n",
    "* `\"solar\"`: \"Solar\" unit system, with base of `(AU, Mearth, yr, K, radian)`.\n",
    "* `\"planck\"`: Planck natural units $\\hbar = c = G = k_B = 1$, with base of `(l_pl, m_pl, t_pl, T_pl, radian)`.\n",
    "* `\"geometrized\"`: Geometrized natural units $c = G = 1$, with base of `(l_geom, m_geom, t_geom, K, radian)`.\n",
    "\n",
    "There is a `unit_system_registry` `Dict` that can be queried for the different unit systems:"
   ]
  },
  {
   "cell_type": "code",
   "execution_count": null,
   "metadata": {
    "collapsed": false
   },
   "outputs": [],
   "source": [
    "collect(keys(unit_system_registry))"
   ]
  },
  {
   "cell_type": "markdown",
   "metadata": {},
   "source": [
    "A particular registry can also be queried to determine what units it uses for a particular dimension:"
   ]
  },
  {
   "cell_type": "code",
   "execution_count": null,
   "metadata": {
    "collapsed": false
   },
   "outputs": [],
   "source": [
    "unit_system_registry[\"mks\"]"
   ]
  },
  {
   "cell_type": "code",
   "execution_count": null,
   "metadata": {
    "collapsed": false
   },
   "outputs": [],
   "source": [
    "unit_system_registry[\"mks\"][\"time\"]"
   ]
  },
  {
   "cell_type": "markdown",
   "metadata": {},
   "source": [
    "Any given `YTArray` or `YTQuantity` can be converted to a different unit system using the `convert_to_base()` and `in_base()` methods:"
   ]
  },
  {
   "cell_type": "code",
   "execution_count": null,
   "metadata": {
    "collapsed": false
   },
   "outputs": [],
   "source": [
    "aa = YTArray(rand(10), \"m\")\n",
    "in_base(aa; unit_system=\"imperial\")"
   ]
  },
  {
   "cell_type": "markdown",
   "metadata": {},
   "source": [
    "## Mathematical Functions and Array Methods"
   ]
  },
  {
   "cell_type": "markdown",
   "metadata": {},
   "source": [
    "A number of standard mathematical functions and array methods in Julia work on `YTArray`s:\n",
    "\n",
    "* `sqrt`: (square root)\n",
    "* `abs`:  (absolute value)\n",
    "* `abs2`: (square of the absolute value)\n",
    "* `minimum`: (minimum of an array)\n",
    "* `maximum`: (maximum of an array)\n",
    "* `hypot`: (square root of the sum of squares)\n",
    "* `size`: (size of an array)\n",
    "* `ndims`: (number of dimensions of an array)\n",
    "* `sum`, `sum_kbn`: (sum of array elements)\n",
    "* `cumsum`, `cumsum_kbn`: (cumulative sum of array elements)\n",
    "* `accumulate`: (accumulation of array elements, such as sum, max, min, etc.)\n",
    "* `diff`: (finite difference operator of an array)\n",
    "* `gradient`: (differences along an array with a specified spacing between points)\n",
    "* `mean`: (arithmetic mean of an array)\n",
    "* `std`, `stdm`: (standard deviation of an array)\n",
    "* `var`, `varm`: (variance of an array)\n",
    "* `midpoints`: (midpoints of array)\n",
    "* `median`: (median of an array)\n",
    "* `middle`: (middle of an array or two numbers)\n",
    "* `quantile`: (quantile(s) of an array)\n",
    "\n",
    "For more information on how these methods work in Julia, please consult the [Julia documentation](http://julia.readthedocs.org)."
   ]
  },
  {
   "cell_type": "markdown",
   "metadata": {},
   "source": [
    "## Physical Constants"
   ]
  },
  {
   "cell_type": "markdown",
   "metadata": {},
   "source": [
    "Some physical constants are represented in `YT`. They are available via the `YT.physical_constants` submodule, and are unitful quantities which can be used with other quantities and arrays:"
   ]
  },
  {
   "cell_type": "code",
   "execution_count": null,
   "metadata": {
    "collapsed": false
   },
   "outputs": [],
   "source": [
    "pc = YT.physical_constants\n",
    "kb = pc.kboltz"
   ]
  },
  {
   "cell_type": "code",
   "execution_count": null,
   "metadata": {
    "collapsed": false
   },
   "outputs": [],
   "source": [
    "in_units(kb*sp[\"temperature\"], \"keV\") # computing kT in kilo-electronvolts"
   ]
  },
  {
   "cell_type": "markdown",
   "metadata": {},
   "source": [
    "Have a look inside [`YT.physical_constants`](https://github.com/jzuhone/YT.jl/blob/master/src/physical_constants.jl) to see which constants are implemented."
   ]
  },
  {
   "cell_type": "markdown",
   "metadata": {},
   "source": [
    "## Unit Symbols"
   ]
  },
  {
   "cell_type": "markdown",
   "metadata": {},
   "source": [
    "Similarly, for convenience, many units implemented in `YT`, as well as prefixed versions where appropriate, have\n",
    "corresponding `YTQuantities` which can be imported from the `YT.unit_symbols` module. They can then be multiplied by\n",
    "`Real`s or `Array`s to generate `YTArray`s and `YTQuantities`:"
   ]
  },
  {
   "cell_type": "code",
   "execution_count": null,
   "metadata": {
    "collapsed": false
   },
   "outputs": [],
   "source": [
    "u = YT.unit_symbols\n",
    "\n",
    "rand(5)*u.Msun"
   ]
  },
  {
   "cell_type": "code",
   "execution_count": null,
   "metadata": {
    "collapsed": false
   },
   "outputs": [],
   "source": [
    "3.0*u.kpc"
   ]
  },
  {
   "cell_type": "markdown",
   "metadata": {},
   "source": [
    "## Equivalencies"
   ]
  },
  {
   "cell_type": "markdown",
   "metadata": {},
   "source": [
    "Some physical quantities are directly related to other unitful quantities by a constant, but otherwise do not have the same units. To facilitate conversions between these quantities, `YT` implements a system of unit equivalencies (inspired by the [AstroPy implementation](http://docs.astropy.org/en/latest/units/equivalencies.html>).  \n",
    "\n",
    "The possible unit equivalencies are:\n",
    "\n",
    "* `\"thermal\"`: conversions between temperature and energy ($E = k_BT$)\n",
    "* `\"spectral\"`: conversions between wavelength, frequency, and energy ($E = h\\nu = hc/\\lambda$, $c = \\lambda\\nu$)\n",
    "* `\"mass_energy\"`: conversions between mass and energy ($E = mc^2$)\n",
    "* `\"lorentz\"`: conversions between velocity and Lorentz factor ($\\gamma = 1/\\sqrt{1-(v/c)^2}$)\n",
    "* `\"schwarzschild\"`: conversions between mass and Schwarzschild radius ($R_S = 2GM/c^2$)\n",
    "* `\"compton\"`: conversions between mass and Compton wavelength ($\\lambda = h/mc$)"
   ]
  },
  {
   "cell_type": "markdown",
   "metadata": {},
   "source": [
    "The following unit equivalencies only apply under conditions applicable for an ideal gas with a constant mean molecular weight $\\mu$ and ratio of specific heats $\\gamma$:\n",
    "\n",
    "* `\"number_density\"`: conversions between density and number density ($n = \\rho/\\mu{m_p}$)\n",
    "* `\"sound_speed\"`: conversions between temperature and sound speed assuming an ideal gas ($c_s^2 = \\gamma{k_BT}/\\mu{m_p}$)"
   ]
  },
  {
   "cell_type": "markdown",
   "metadata": {},
   "source": [
    "A `YTArray` or `YTQuantity` can be converted to an equivalent using the `to_equivalent()` method, where the unit and the equivalence name are provided as arguments:"
   ]
  },
  {
   "cell_type": "code",
   "execution_count": null,
   "metadata": {
    "collapsed": false
   },
   "outputs": [],
   "source": [
    "T = YTQuantity(1.0e8, \"K\")\n",
    "to_equivalent(T, \"keV\", \"thermal\")"
   ]
  },
  {
   "cell_type": "code",
   "execution_count": null,
   "metadata": {
    "collapsed": false
   },
   "outputs": [],
   "source": [
    "ds2 = load(\"IsolatedGalaxy/galaxy0030/galaxy0030\")\n",
    "\n",
    "dd = AllData(ds2)\n",
    "\n",
    "to_equivalent(dd[\"density\"], \"kpc^-3\", \"number_density\")"
   ]
  },
  {
   "cell_type": "code",
   "execution_count": null,
   "metadata": {
    "collapsed": false
   },
   "outputs": [],
   "source": [
    "import YT.physical_constants: mp\n",
    "\n",
    "to_equivalent(mp, \"GeV\", \"mass_energy\")"
   ]
  },
  {
   "cell_type": "markdown",
   "metadata": {},
   "source": [
    "Some equivalencies take optional parameters, such as `\"sound_speed\"`, which allows you to change the mean molecular weight `mu` and ratio of specific heats `gamma`:"
   ]
  },
  {
   "cell_type": "code",
   "execution_count": null,
   "metadata": {
    "collapsed": false
   },
   "outputs": [],
   "source": [
    "kT = YTQuantity(4.0, \"keV\")\n",
    "to_equivalent(kT, \"km/s\", \"sound_speed\", gamma=4./3., mu=0.5)"
   ]
  },
  {
   "cell_type": "markdown",
   "metadata": {},
   "source": [
    "To list the available equivalencies for a given array or quantity, use the `list_equivalencies()` method:"
   ]
  },
  {
   "cell_type": "code",
   "execution_count": null,
   "metadata": {
    "collapsed": false
   },
   "outputs": [],
   "source": [
    "list_equivalencies(kT)"
   ]
  },
  {
   "cell_type": "markdown",
   "metadata": {},
   "source": [
    "or to check if a specific equivalence exists for an array or quantity, use `has_equivalent()`:"
   ]
  },
  {
   "cell_type": "code",
   "execution_count": null,
   "metadata": {
    "collapsed": false
   },
   "outputs": [],
   "source": [
    "has_equivalent(kT, \"spectral\")"
   ]
  },
  {
   "cell_type": "code",
   "execution_count": null,
   "metadata": {
    "collapsed": false
   },
   "outputs": [],
   "source": [
    "has_equivalent(dd[\"density\"], \"compton\")"
   ]
  }
 ],
 "metadata": {
  "anaconda-cloud": {},
  "kernelspec": {
   "display_name": "Julia 0.5.0",
   "language": "julia",
   "name": "julia-0.5"
  },
  "language_info": {
   "file_extension": ".jl",
   "mimetype": "application/julia",
   "name": "julia",
   "version": "0.5.0"
  }
 },
 "nbformat": 4,
 "nbformat_minor": 2
}
